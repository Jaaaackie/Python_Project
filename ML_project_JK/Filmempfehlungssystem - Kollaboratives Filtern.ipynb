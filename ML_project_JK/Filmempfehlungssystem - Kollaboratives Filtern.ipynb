{
 "cells": [
  {
   "cell_type": "markdown",
   "id": "6c47f224-a091-494f-8966-25114cf229b0",
   "metadata": {},
   "source": [
    "## 3. Kollaboratives Filtern (Collaborated Filtering : basiert auf Nutzerbewertung)"
   ]
  },
  {
   "cell_type": "markdown",
   "id": "caba5cac-cf94-4c81-87c3-109fdc4d1134",
   "metadata": {},
   "source": [
    "Ich : Up, Zoomania  \n",
    "Andere : Up, Zoomannia, Alles steht Kopf\n",
    "\n",
    "Wenn jemand, der die gleichen Filme wie ich gesehen hat, \"Alles steht Kopf\" auch für gut bewertet, ist es wahrscheinlich, dass mir der Film auch gefallen wird.  \n",
    "Im Gegensatz zum inhaltsbasierten Filtern braucht man hier keine Informationen über die Filme selbst. Es geht nur um die Bewertungshistorie der Filme."
   ]
  },
  {
   "cell_type": "markdown",
   "id": "34eb86ad-4477-4564-9335-54123930e158",
   "metadata": {},
   "source": [
    "Um ein Empfehlungssystem zu implementieren, muss man das Package \"surprise\" installieren > in der Anaconda-Prompt (als Administrator ausführen)\n",
    "> pip install scikit-surprise"
   ]
  },
  {
   "cell_type": "markdown",
   "id": "ccf8a371-0ca6-4580-abda-11862c7b84c0",
   "metadata": {},
   "source": [
    "pip install scikit-surprise Fehler?\n",
    "> Auf Jupyte Notebook : !pip install scikit-surprise / !pip install surprise\n",
    "\n",
    "immer noch Fehler?\n",
    "> anaconda cmd -> conda update --all -> conda install -c conda-forge scikit-surprise"
   ]
  },
  {
   "cell_type": "code",
   "execution_count": 1,
   "id": "4643b188-9a24-4af9-b066-8b54e4463a48",
   "metadata": {},
   "outputs": [
    {
     "data": {
      "text/plain": [
       "'1.1.3'"
      ]
     },
     "execution_count": 1,
     "metadata": {},
     "output_type": "execute_result"
    }
   ],
   "source": [
    "import surprise\n",
    "surprise.__version__"
   ]
  },
  {
   "cell_type": "markdown",
   "id": "0757430f-f03d-46ab-9842-c6d150fbeb61",
   "metadata": {},
   "source": [
    "Bisher brauchten wir Informationen darüber, welcher Nutzer welche Filme wie bewertet haben > Kaggle  \n",
    "https://surpriselib.com/\n",
    "\n",
    "> Bei den Bewertungskennzahlen hat SVD++ mit einem RMS (Root Mean Square) von 0.92 den besten Wert, aber die Laufzeit ist sehr lang.  \n",
    "> Wenn man Zeit hat, ist das kein Problem, aber wenn nicht, kann man auch ein Modell mit etwas schlechterer Leistung, aber kürzerer Laufzeit verwenden."
   ]
  },
  {
   "cell_type": "code",
   "execution_count": 2,
   "id": "ab7ddd50-3afe-4031-a3c1-ac13746e4374",
   "metadata": {},
   "outputs": [],
   "source": [
    "import pandas as pd\n",
    "from surprise import Reader, Dataset, SVD\n",
    "from surprise.model_selection import cross_validate"
   ]
  },
  {
   "cell_type": "code",
   "execution_count": 3,
   "id": "aed7d7ac-444c-4661-848b-b1f7b027344a",
   "metadata": {},
   "outputs": [
    {
     "data": {
      "text/html": [
       "<div>\n",
       "<style scoped>\n",
       "    .dataframe tbody tr th:only-of-type {\n",
       "        vertical-align: middle;\n",
       "    }\n",
       "\n",
       "    .dataframe tbody tr th {\n",
       "        vertical-align: top;\n",
       "    }\n",
       "\n",
       "    .dataframe thead th {\n",
       "        text-align: right;\n",
       "    }\n",
       "</style>\n",
       "<table border=\"1\" class=\"dataframe\">\n",
       "  <thead>\n",
       "    <tr style=\"text-align: right;\">\n",
       "      <th></th>\n",
       "      <th>userId</th>\n",
       "      <th>movieId</th>\n",
       "      <th>rating</th>\n",
       "      <th>timestamp</th>\n",
       "    </tr>\n",
       "  </thead>\n",
       "  <tbody>\n",
       "    <tr>\n",
       "      <th>0</th>\n",
       "      <td>1</td>\n",
       "      <td>31</td>\n",
       "      <td>2.5</td>\n",
       "      <td>1260759144</td>\n",
       "    </tr>\n",
       "    <tr>\n",
       "      <th>1</th>\n",
       "      <td>1</td>\n",
       "      <td>1029</td>\n",
       "      <td>3.0</td>\n",
       "      <td>1260759179</td>\n",
       "    </tr>\n",
       "    <tr>\n",
       "      <th>2</th>\n",
       "      <td>1</td>\n",
       "      <td>1061</td>\n",
       "      <td>3.0</td>\n",
       "      <td>1260759182</td>\n",
       "    </tr>\n",
       "    <tr>\n",
       "      <th>3</th>\n",
       "      <td>1</td>\n",
       "      <td>1129</td>\n",
       "      <td>2.0</td>\n",
       "      <td>1260759185</td>\n",
       "    </tr>\n",
       "    <tr>\n",
       "      <th>4</th>\n",
       "      <td>1</td>\n",
       "      <td>1172</td>\n",
       "      <td>4.0</td>\n",
       "      <td>1260759205</td>\n",
       "    </tr>\n",
       "  </tbody>\n",
       "</table>\n",
       "</div>"
      ],
      "text/plain": [
       "   userId  movieId  rating   timestamp\n",
       "0       1       31     2.5  1260759144\n",
       "1       1     1029     3.0  1260759179\n",
       "2       1     1061     3.0  1260759182\n",
       "3       1     1129     2.0  1260759185\n",
       "4       1     1172     4.0  1260759205"
      ]
     },
     "execution_count": 3,
     "metadata": {},
     "output_type": "execute_result"
    }
   ],
   "source": [
    "ratings = pd.read_csv('ratings_small.csv')\n",
    "ratings.head()"
   ]
  },
  {
   "cell_type": "code",
   "execution_count": 4,
   "id": "15a38bfa-faba-47b2-a71f-88fefa7765da",
   "metadata": {},
   "outputs": [
    {
     "data": {
      "text/plain": [
       "0.5"
      ]
     },
     "execution_count": 4,
     "metadata": {},
     "output_type": "execute_result"
    }
   ],
   "source": [
    "ratings['rating'].min()"
   ]
  },
  {
   "cell_type": "code",
   "execution_count": 5,
   "id": "86db5d5c-3f4d-48b6-8483-76d9e0efeeee",
   "metadata": {},
   "outputs": [
    {
     "data": {
      "text/plain": [
       "5.0"
      ]
     },
     "execution_count": 5,
     "metadata": {},
     "output_type": "execute_result"
    }
   ],
   "source": [
    "ratings['rating'].max()"
   ]
  },
  {
   "cell_type": "markdown",
   "id": "d52ce208-3035-4b0c-a749-3db76914548a",
   "metadata": {},
   "source": [
    "Die Daten oben müssen nun in das vom \"surprise-Paket\" (Bibliothek) gewünschte Format gebracht werden. Dabei gibt es den Parameter \"rating_scale\" in der \"Reader\"-Klasse:  \n",
    "> rating_scale (tuple, optional) – Die Bewertungsskala, die für jede Bewertung verwendet wird. Der Standardwert ist (1, 5)\n",
    "\n",
    "Da unsere Daten eine Skala von (0.5, 5) haben, müssen wir das anpassen."
   ]
  },
  {
   "cell_type": "code",
   "execution_count": 6,
   "id": "8f67f44c-2bb7-4b3b-9cf3-16db148395de",
   "metadata": {},
   "outputs": [],
   "source": [
    "reader = Reader(rating_scale = (0.5, 5))"
   ]
  },
  {
   "cell_type": "code",
   "execution_count": 7,
   "id": "d80a4b17-52bf-4983-8e1f-63493f43a3e5",
   "metadata": {},
   "outputs": [
    {
     "data": {
      "text/plain": [
       "<surprise.dataset.DatasetAutoFolds at 0x2615faa4210>"
      ]
     },
     "execution_count": 7,
     "metadata": {},
     "output_type": "execute_result"
    }
   ],
   "source": [
    "# Dabei muss \"df\" nur die Spalten \"userId\", \"itemId\", \"rating\" enthalten (Bibliotheksvorgabe)\n",
    "data = Dataset.load_from_df(ratings[['userId', 'movieId', 'rating']], reader = reader)\n",
    "data"
   ]
  },
  {
   "cell_type": "code",
   "execution_count": 8,
   "id": "a6085c15-6a4f-4d49-8a6a-ba6303ae8578",
   "metadata": {},
   "outputs": [],
   "source": [
    "svd = SVD(random_state = 0)"
   ]
  },
  {
   "cell_type": "markdown",
   "id": "c5920d49-68cd-4247-b288-06386c80018d",
   "metadata": {},
   "source": [
    "Auf Kaggle gibt es eine Funktion \"evaluate\", um Daten über Modell (svd) zu bewerten, aber die ist veraltet (deprecated), also nicht mehr unterstützt. Stattdessen kann man \"cross_validate\"-Funktion verwenden."
   ]
  },
  {
   "cell_type": "code",
   "execution_count": 9,
   "id": "e134384c-b546-48f9-8fcb-2a41a6ba99db",
   "metadata": {},
   "outputs": [
    {
     "name": "stdout",
     "output_type": "stream",
     "text": [
      "Evaluating RMSE, MAE of algorithm SVD on 5 split(s).\n",
      "\n",
      "                  Fold 1  Fold 2  Fold 3  Fold 4  Fold 5  Mean    Std     \n",
      "RMSE (testset)    0.8939  0.8908  0.9028  0.8835  0.9021  0.8946  0.0072  \n",
      "MAE (testset)     0.6895  0.6875  0.6932  0.6824  0.6926  0.6890  0.0039  \n",
      "Fit time          1.92    1.50    2.84    1.38    2.58    2.04    0.58    \n",
      "Test time         0.19    0.21    0.26    0.24    0.19    0.22    0.03    \n"
     ]
    },
    {
     "data": {
      "text/plain": [
       "{'test_rmse': array([0.893926  , 0.89081194, 0.90283861, 0.88352566, 0.90211701]),\n",
       " 'test_mae': array([0.68945095, 0.68754668, 0.69324892, 0.68238576, 0.69255394]),\n",
       " 'fit_time': (1.9230287075042725,\n",
       "  1.499971866607666,\n",
       "  2.841823101043701,\n",
       "  1.3757073879241943,\n",
       "  2.576093912124634),\n",
       " 'test_time': (0.18567204475402832,\n",
       "  0.20958185195922852,\n",
       "  0.26209473609924316,\n",
       "  0.2401564121246338,\n",
       "  0.18981552124023438)}"
      ]
     },
     "execution_count": 9,
     "metadata": {},
     "output_type": "execute_result"
    }
   ],
   "source": [
    "cross_validate(svd, data, measures = ['RMSE', 'MAE'], cv = 5, verbose = True) # Root Mean Squared Error, Mean Absolute Error\""
   ]
  },
  {
   "cell_type": "markdown",
   "id": "642be8b3-fdf0-424b-9789-171ed16a739d",
   "metadata": {},
   "source": [
    "cross_validate : Beim Modelltraining werden die Daten in mehrere Testsets aufgeteilt und kreuzweise evaluiert.  \n",
    "> Beispiel : 100 Datenpunkte  \n",
    "> cv = 5 : die Daten in 5 Testsets aufteilen und evaluieren  \n",
    "> z.B., A : 1-20, B: 21-40, C: 41-60, D: 61-80, E: 81-100  \n",
    "> - ABCD (train set), E (test set)  \n",
    "> - ABCE (train set), D (test set)  \n",
    "> - ABDE (train set), C (test set)  \n",
    "> - ACDE (train set), B (test set)  \n",
    "> - BCDE (train set), A (test set)\n",
    "> \n",
    "> So werden die Testläufe durchgewechselt und das Durchschnittsergebnis als Leistungsmaß verwendet.  \n",
    "> Dies ist das \"k-fold cross_validate\" (auch in \"scikit-learn-Bibliothek möglich))  \n",
    "> Es gibt noch andere Methoden (z.B. Train-/Testset-Aufteilungsverhältnis wie vorher)"
   ]
  },
  {
   "cell_type": "code",
   "execution_count": 10,
   "id": "66804605-4491-4526-bc52-19b4f5d25434",
   "metadata": {},
   "outputs": [
    {
     "data": {
      "text/plain": [
       "<surprise.prediction_algorithms.matrix_factorization.SVD at 0x2616266c210>"
      ]
     },
     "execution_count": 10,
     "metadata": {},
     "output_type": "execute_result"
    }
   ],
   "source": [
    "trainset = data.build_full_trainset()\n",
    "svd.fit(trainset)"
   ]
  },
  {
   "cell_type": "code",
   "execution_count": 11,
   "id": "82ce455e-6f8d-41ca-97ed-05861fdc7823",
   "metadata": {},
   "outputs": [
    {
     "data": {
      "text/html": [
       "<div>\n",
       "<style scoped>\n",
       "    .dataframe tbody tr th:only-of-type {\n",
       "        vertical-align: middle;\n",
       "    }\n",
       "\n",
       "    .dataframe tbody tr th {\n",
       "        vertical-align: top;\n",
       "    }\n",
       "\n",
       "    .dataframe thead th {\n",
       "        text-align: right;\n",
       "    }\n",
       "</style>\n",
       "<table border=\"1\" class=\"dataframe\">\n",
       "  <thead>\n",
       "    <tr style=\"text-align: right;\">\n",
       "      <th></th>\n",
       "      <th>userId</th>\n",
       "      <th>movieId</th>\n",
       "      <th>rating</th>\n",
       "      <th>timestamp</th>\n",
       "    </tr>\n",
       "  </thead>\n",
       "  <tbody>\n",
       "    <tr>\n",
       "      <th>0</th>\n",
       "      <td>1</td>\n",
       "      <td>31</td>\n",
       "      <td>2.5</td>\n",
       "      <td>1260759144</td>\n",
       "    </tr>\n",
       "    <tr>\n",
       "      <th>1</th>\n",
       "      <td>1</td>\n",
       "      <td>1029</td>\n",
       "      <td>3.0</td>\n",
       "      <td>1260759179</td>\n",
       "    </tr>\n",
       "    <tr>\n",
       "      <th>2</th>\n",
       "      <td>1</td>\n",
       "      <td>1061</td>\n",
       "      <td>3.0</td>\n",
       "      <td>1260759182</td>\n",
       "    </tr>\n",
       "    <tr>\n",
       "      <th>3</th>\n",
       "      <td>1</td>\n",
       "      <td>1129</td>\n",
       "      <td>2.0</td>\n",
       "      <td>1260759185</td>\n",
       "    </tr>\n",
       "    <tr>\n",
       "      <th>4</th>\n",
       "      <td>1</td>\n",
       "      <td>1172</td>\n",
       "      <td>4.0</td>\n",
       "      <td>1260759205</td>\n",
       "    </tr>\n",
       "    <tr>\n",
       "      <th>5</th>\n",
       "      <td>1</td>\n",
       "      <td>1263</td>\n",
       "      <td>2.0</td>\n",
       "      <td>1260759151</td>\n",
       "    </tr>\n",
       "    <tr>\n",
       "      <th>6</th>\n",
       "      <td>1</td>\n",
       "      <td>1287</td>\n",
       "      <td>2.0</td>\n",
       "      <td>1260759187</td>\n",
       "    </tr>\n",
       "    <tr>\n",
       "      <th>7</th>\n",
       "      <td>1</td>\n",
       "      <td>1293</td>\n",
       "      <td>2.0</td>\n",
       "      <td>1260759148</td>\n",
       "    </tr>\n",
       "    <tr>\n",
       "      <th>8</th>\n",
       "      <td>1</td>\n",
       "      <td>1339</td>\n",
       "      <td>3.5</td>\n",
       "      <td>1260759125</td>\n",
       "    </tr>\n",
       "    <tr>\n",
       "      <th>9</th>\n",
       "      <td>1</td>\n",
       "      <td>1343</td>\n",
       "      <td>2.0</td>\n",
       "      <td>1260759131</td>\n",
       "    </tr>\n",
       "    <tr>\n",
       "      <th>10</th>\n",
       "      <td>1</td>\n",
       "      <td>1371</td>\n",
       "      <td>2.5</td>\n",
       "      <td>1260759135</td>\n",
       "    </tr>\n",
       "    <tr>\n",
       "      <th>11</th>\n",
       "      <td>1</td>\n",
       "      <td>1405</td>\n",
       "      <td>1.0</td>\n",
       "      <td>1260759203</td>\n",
       "    </tr>\n",
       "    <tr>\n",
       "      <th>12</th>\n",
       "      <td>1</td>\n",
       "      <td>1953</td>\n",
       "      <td>4.0</td>\n",
       "      <td>1260759191</td>\n",
       "    </tr>\n",
       "    <tr>\n",
       "      <th>13</th>\n",
       "      <td>1</td>\n",
       "      <td>2105</td>\n",
       "      <td>4.0</td>\n",
       "      <td>1260759139</td>\n",
       "    </tr>\n",
       "    <tr>\n",
       "      <th>14</th>\n",
       "      <td>1</td>\n",
       "      <td>2150</td>\n",
       "      <td>3.0</td>\n",
       "      <td>1260759194</td>\n",
       "    </tr>\n",
       "    <tr>\n",
       "      <th>15</th>\n",
       "      <td>1</td>\n",
       "      <td>2193</td>\n",
       "      <td>2.0</td>\n",
       "      <td>1260759198</td>\n",
       "    </tr>\n",
       "    <tr>\n",
       "      <th>16</th>\n",
       "      <td>1</td>\n",
       "      <td>2294</td>\n",
       "      <td>2.0</td>\n",
       "      <td>1260759108</td>\n",
       "    </tr>\n",
       "    <tr>\n",
       "      <th>17</th>\n",
       "      <td>1</td>\n",
       "      <td>2455</td>\n",
       "      <td>2.5</td>\n",
       "      <td>1260759113</td>\n",
       "    </tr>\n",
       "    <tr>\n",
       "      <th>18</th>\n",
       "      <td>1</td>\n",
       "      <td>2968</td>\n",
       "      <td>1.0</td>\n",
       "      <td>1260759200</td>\n",
       "    </tr>\n",
       "    <tr>\n",
       "      <th>19</th>\n",
       "      <td>1</td>\n",
       "      <td>3671</td>\n",
       "      <td>3.0</td>\n",
       "      <td>1260759117</td>\n",
       "    </tr>\n",
       "  </tbody>\n",
       "</table>\n",
       "</div>"
      ],
      "text/plain": [
       "    userId  movieId  rating   timestamp\n",
       "0        1       31     2.5  1260759144\n",
       "1        1     1029     3.0  1260759179\n",
       "2        1     1061     3.0  1260759182\n",
       "3        1     1129     2.0  1260759185\n",
       "4        1     1172     4.0  1260759205\n",
       "5        1     1263     2.0  1260759151\n",
       "6        1     1287     2.0  1260759187\n",
       "7        1     1293     2.0  1260759148\n",
       "8        1     1339     3.5  1260759125\n",
       "9        1     1343     2.0  1260759131\n",
       "10       1     1371     2.5  1260759135\n",
       "11       1     1405     1.0  1260759203\n",
       "12       1     1953     4.0  1260759191\n",
       "13       1     2105     4.0  1260759139\n",
       "14       1     2150     3.0  1260759194\n",
       "15       1     2193     2.0  1260759198\n",
       "16       1     2294     2.0  1260759108\n",
       "17       1     2455     2.5  1260759113\n",
       "18       1     2968     1.0  1260759200\n",
       "19       1     3671     3.0  1260759117"
      ]
     },
     "execution_count": 11,
     "metadata": {},
     "output_type": "execute_result"
    }
   ],
   "source": [
    "ratings[ratings['userId'] == 1]\n",
    "# Daten des Nutzers mit \"userId == 1\" aus dem \"ratings\"-DataFrame"
   ]
  },
  {
   "cell_type": "markdown",
   "id": "ef5a2981-74b3-40b7-9ac4-08d8238705bb",
   "metadata": {},
   "source": [
    "Vorhersage, wie der Nutzer mit \"userID == 1\" den Film mit \"movieId == 302\" bewerten würde:  \n",
    "> svd.predict(userId, movieId, [r_ui])"
   ]
  },
  {
   "cell_type": "code",
   "execution_count": 12,
   "id": "95877b89-38a8-4090-80d8-003792a301dc",
   "metadata": {},
   "outputs": [
    {
     "data": {
      "text/plain": [
       "Prediction(uid=1, iid=302, r_ui=3, est=2.7142061734434044, details={'was_impossible': False})"
      ]
     },
     "execution_count": 12,
     "metadata": {},
     "output_type": "execute_result"
    }
   ],
   "source": [
    "svd.predict(1, 302, 3)"
   ]
  },
  {
   "cell_type": "markdown",
   "id": "81267e31-3404-450a-8ab5-58b178c31bf0",
   "metadata": {},
   "source": [
    "Ergebnisinterpretation :  \n",
    "Prediction(uid=1, iid=302, r_ui=None, est=2.7142061734434044, details={'was_impossible': False})  \n",
    "- uid = 1 (userId == 1)\n",
    "- iid = 302 (movieId == 302, Bewertungsobjekt)\n",
    "- r_ui = None (tatsächliche Bewertung, optional, keine Eingabe: None)\n",
    "- est = 2.714 (vorhergesagte Bewertung)"
   ]
  },
  {
   "cell_type": "code",
   "execution_count": 13,
   "id": "29073614-7641-4b3a-8357-1302727fc5e0",
   "metadata": {},
   "outputs": [
    {
     "data": {
      "text/plain": [
       "Prediction(uid=1, iid=1029, r_ui=3, est=2.8814455446761933, details={'was_impossible': False})"
      ]
     },
     "execution_count": 13,
     "metadata": {},
     "output_type": "execute_result"
    }
   ],
   "source": [
    "svd.predict(1, 1029, 3)\n",
    "# Wenn Nutzer 1 (userId == 1) den Film 1029 (movieId == 1029) mit 3 Punkten (r_ui = 3) bewertet, wie lautet die Vorhersage?\n",
    "# Ergebnis: est = 2.88... so ähnlich wie seiner tatsächlicher Bewertung"
   ]
  },
  {
   "cell_type": "code",
   "execution_count": 14,
   "id": "50a1b4c7-abc0-4e24-a50e-2f7cf2506a87",
   "metadata": {},
   "outputs": [
    {
     "data": {
      "text/html": [
       "<div>\n",
       "<style scoped>\n",
       "    .dataframe tbody tr th:only-of-type {\n",
       "        vertical-align: middle;\n",
       "    }\n",
       "\n",
       "    .dataframe tbody tr th {\n",
       "        vertical-align: top;\n",
       "    }\n",
       "\n",
       "    .dataframe thead th {\n",
       "        text-align: right;\n",
       "    }\n",
       "</style>\n",
       "<table border=\"1\" class=\"dataframe\">\n",
       "  <thead>\n",
       "    <tr style=\"text-align: right;\">\n",
       "      <th></th>\n",
       "      <th>userId</th>\n",
       "      <th>movieId</th>\n",
       "      <th>rating</th>\n",
       "      <th>timestamp</th>\n",
       "    </tr>\n",
       "  </thead>\n",
       "  <tbody>\n",
       "    <tr>\n",
       "      <th>15273</th>\n",
       "      <td>100</td>\n",
       "      <td>1</td>\n",
       "      <td>4.0</td>\n",
       "      <td>854193977</td>\n",
       "    </tr>\n",
       "    <tr>\n",
       "      <th>15274</th>\n",
       "      <td>100</td>\n",
       "      <td>3</td>\n",
       "      <td>4.0</td>\n",
       "      <td>854194024</td>\n",
       "    </tr>\n",
       "    <tr>\n",
       "      <th>15275</th>\n",
       "      <td>100</td>\n",
       "      <td>6</td>\n",
       "      <td>3.0</td>\n",
       "      <td>854194023</td>\n",
       "    </tr>\n",
       "    <tr>\n",
       "      <th>15276</th>\n",
       "      <td>100</td>\n",
       "      <td>7</td>\n",
       "      <td>3.0</td>\n",
       "      <td>854194024</td>\n",
       "    </tr>\n",
       "    <tr>\n",
       "      <th>15277</th>\n",
       "      <td>100</td>\n",
       "      <td>25</td>\n",
       "      <td>4.0</td>\n",
       "      <td>854193977</td>\n",
       "    </tr>\n",
       "    <tr>\n",
       "      <th>15278</th>\n",
       "      <td>100</td>\n",
       "      <td>32</td>\n",
       "      <td>5.0</td>\n",
       "      <td>854193977</td>\n",
       "    </tr>\n",
       "    <tr>\n",
       "      <th>15279</th>\n",
       "      <td>100</td>\n",
       "      <td>52</td>\n",
       "      <td>3.0</td>\n",
       "      <td>854194056</td>\n",
       "    </tr>\n",
       "    <tr>\n",
       "      <th>15280</th>\n",
       "      <td>100</td>\n",
       "      <td>62</td>\n",
       "      <td>3.0</td>\n",
       "      <td>854193977</td>\n",
       "    </tr>\n",
       "    <tr>\n",
       "      <th>15281</th>\n",
       "      <td>100</td>\n",
       "      <td>86</td>\n",
       "      <td>3.0</td>\n",
       "      <td>854194208</td>\n",
       "    </tr>\n",
       "    <tr>\n",
       "      <th>15282</th>\n",
       "      <td>100</td>\n",
       "      <td>88</td>\n",
       "      <td>2.0</td>\n",
       "      <td>854194208</td>\n",
       "    </tr>\n",
       "    <tr>\n",
       "      <th>15283</th>\n",
       "      <td>100</td>\n",
       "      <td>95</td>\n",
       "      <td>3.0</td>\n",
       "      <td>854193977</td>\n",
       "    </tr>\n",
       "    <tr>\n",
       "      <th>15284</th>\n",
       "      <td>100</td>\n",
       "      <td>135</td>\n",
       "      <td>3.0</td>\n",
       "      <td>854194086</td>\n",
       "    </tr>\n",
       "    <tr>\n",
       "      <th>15285</th>\n",
       "      <td>100</td>\n",
       "      <td>141</td>\n",
       "      <td>3.0</td>\n",
       "      <td>854193977</td>\n",
       "    </tr>\n",
       "    <tr>\n",
       "      <th>15286</th>\n",
       "      <td>100</td>\n",
       "      <td>608</td>\n",
       "      <td>4.0</td>\n",
       "      <td>854194024</td>\n",
       "    </tr>\n",
       "    <tr>\n",
       "      <th>15287</th>\n",
       "      <td>100</td>\n",
       "      <td>648</td>\n",
       "      <td>3.0</td>\n",
       "      <td>854193977</td>\n",
       "    </tr>\n",
       "    <tr>\n",
       "      <th>15288</th>\n",
       "      <td>100</td>\n",
       "      <td>661</td>\n",
       "      <td>3.0</td>\n",
       "      <td>854194086</td>\n",
       "    </tr>\n",
       "    <tr>\n",
       "      <th>15289</th>\n",
       "      <td>100</td>\n",
       "      <td>708</td>\n",
       "      <td>3.0</td>\n",
       "      <td>854194056</td>\n",
       "    </tr>\n",
       "    <tr>\n",
       "      <th>15290</th>\n",
       "      <td>100</td>\n",
       "      <td>733</td>\n",
       "      <td>3.0</td>\n",
       "      <td>854194024</td>\n",
       "    </tr>\n",
       "    <tr>\n",
       "      <th>15291</th>\n",
       "      <td>100</td>\n",
       "      <td>736</td>\n",
       "      <td>3.0</td>\n",
       "      <td>854193977</td>\n",
       "    </tr>\n",
       "    <tr>\n",
       "      <th>15292</th>\n",
       "      <td>100</td>\n",
       "      <td>745</td>\n",
       "      <td>4.0</td>\n",
       "      <td>854194208</td>\n",
       "    </tr>\n",
       "    <tr>\n",
       "      <th>15293</th>\n",
       "      <td>100</td>\n",
       "      <td>780</td>\n",
       "      <td>3.0</td>\n",
       "      <td>854193977</td>\n",
       "    </tr>\n",
       "    <tr>\n",
       "      <th>15294</th>\n",
       "      <td>100</td>\n",
       "      <td>786</td>\n",
       "      <td>3.0</td>\n",
       "      <td>854194056</td>\n",
       "    </tr>\n",
       "    <tr>\n",
       "      <th>15295</th>\n",
       "      <td>100</td>\n",
       "      <td>802</td>\n",
       "      <td>4.0</td>\n",
       "      <td>854194111</td>\n",
       "    </tr>\n",
       "    <tr>\n",
       "      <th>15296</th>\n",
       "      <td>100</td>\n",
       "      <td>1073</td>\n",
       "      <td>5.0</td>\n",
       "      <td>854194056</td>\n",
       "    </tr>\n",
       "    <tr>\n",
       "      <th>15297</th>\n",
       "      <td>100</td>\n",
       "      <td>1356</td>\n",
       "      <td>4.0</td>\n",
       "      <td>854194086</td>\n",
       "    </tr>\n",
       "  </tbody>\n",
       "</table>\n",
       "</div>"
      ],
      "text/plain": [
       "       userId  movieId  rating  timestamp\n",
       "15273     100        1     4.0  854193977\n",
       "15274     100        3     4.0  854194024\n",
       "15275     100        6     3.0  854194023\n",
       "15276     100        7     3.0  854194024\n",
       "15277     100       25     4.0  854193977\n",
       "15278     100       32     5.0  854193977\n",
       "15279     100       52     3.0  854194056\n",
       "15280     100       62     3.0  854193977\n",
       "15281     100       86     3.0  854194208\n",
       "15282     100       88     2.0  854194208\n",
       "15283     100       95     3.0  854193977\n",
       "15284     100      135     3.0  854194086\n",
       "15285     100      141     3.0  854193977\n",
       "15286     100      608     4.0  854194024\n",
       "15287     100      648     3.0  854193977\n",
       "15288     100      661     3.0  854194086\n",
       "15289     100      708     3.0  854194056\n",
       "15290     100      733     3.0  854194024\n",
       "15291     100      736     3.0  854193977\n",
       "15292     100      745     4.0  854194208\n",
       "15293     100      780     3.0  854193977\n",
       "15294     100      786     3.0  854194056\n",
       "15295     100      802     4.0  854194111\n",
       "15296     100     1073     5.0  854194056\n",
       "15297     100     1356     4.0  854194086"
      ]
     },
     "execution_count": 14,
     "metadata": {},
     "output_type": "execute_result"
    }
   ],
   "source": [
    "ratings[ratings['userId'] == 100]\n",
    "# Bewertungshistorie vom Nutzer 100"
   ]
  },
  {
   "cell_type": "code",
   "execution_count": 15,
   "id": "e1f264de-adbb-4d5b-b9a9-19d6ec14c5aa",
   "metadata": {},
   "outputs": [
    {
     "data": {
      "text/plain": [
       "Prediction(uid=100, iid=1029, r_ui=None, est=3.7705476478414846, details={'was_impossible': False})"
      ]
     },
     "execution_count": 15,
     "metadata": {},
     "output_type": "execute_result"
    }
   ],
   "source": [
    "svd.predict(100, 1029) # userId == 100, movieId == 1029\n",
    "# Ergebnis : est = 3.77..., das heißt, der Nutzer 100 würde 3.77 Punkt für diesen Film 1029 bewerten"
   ]
  },
  {
   "cell_type": "markdown",
   "id": "0aa0edda-8ef8-4c24-9cd3-bf0d4bd8eac2",
   "metadata": {},
   "source": [
    "Für den gleichen Film (movieId == 1029) ergeben sich je nach Nutzer unterschiedliche Vorhersagen, basierend auf den Bewertungshistorien der Nutzer\n",
    "-> Kollaboratives Filtern"
   ]
  },
  {
   "cell_type": "markdown",
   "id": "7ce84eeb-226b-4ec7-834f-fedaad62d6f9",
   "metadata": {},
   "source": [
    "Man könnte die bereits gesehenen Filme und die noch nicht gesehenen Filme vom Nutzer separat erfassen, diese Daten zum Originaldatensatz \\\"ratings\\\" hinzufügen, das Modell trainieren und dann Vorhersagen für die noch nicht gesehenen Filme treffen. Die Top 10 der höchsten Vorhersagen wären dann die personalisierten Empfehlungen\n"
   ]
  },
  {
   "cell_type": "markdown",
   "id": "40bee4b1-761d-4d1e-a3b6-7a4e1e6fa28d",
   "metadata": {},
   "source": [
    "Für eine Onlineshop wäre das sehr hilfreich. Mit den Kaufdaten und Bewertungen der Kunden könnte man mithilfe von \\\"surprise\\\" neue, passende Produktempfehlungen generieren und so den Umsatz steigern."
   ]
  }
 ],
 "metadata": {
  "kernelspec": {
   "display_name": "Python 3 (ipykernel)",
   "language": "python",
   "name": "python3"
  },
  "language_info": {
   "codemirror_mode": {
    "name": "ipython",
    "version": 3
   },
   "file_extension": ".py",
   "mimetype": "text/x-python",
   "name": "python",
   "nbconvert_exporter": "python",
   "pygments_lexer": "ipython3",
   "version": "3.11.8"
  }
 },
 "nbformat": 4,
 "nbformat_minor": 5
}
