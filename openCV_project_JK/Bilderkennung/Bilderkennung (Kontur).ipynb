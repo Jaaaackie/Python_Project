{
 "cells": [
  {
   "cell_type": "markdown",
   "id": "db9511fa",
   "metadata": {},
   "source": [
    "# Bilderkennung (Kontur)"
   ]
  },
  {
   "cell_type": "markdown",
   "id": "5c893b35",
   "metadata": {},
   "source": [
    "## Einzelne Karten extrahieren und als Dateien speichern\n",
    "In dem gegebenen Bild werden Karten erkannt, und nur diejenigen, die eine bestimmte Mindestgröße haben, werden als separate Dateien gespeichert."
   ]
  },
  {
   "cell_type": "markdown",
   "id": "ca057ffc-0f6b-4a3d-99ff-d060e94ce201",
   "metadata": {},
   "source": [
    "#### Threshold\n",
    "Der Schwellenwert (Threshold) ist ein \"Kriterium\", das je nach Situation variieren kann.  \n",
    "\n",
    "Die Funktion \"threshold(img, Schwellenwert, Wert oberhalb des Schwellenwerts) gibt \"ret\" und \"binary\"(Binärbild) zurück. Für Rückgabewerte, die nicht verwendet werden, kann man mit _ verarbeiten\n",
    "\n",
    "Farbwerte nach RGB :\n",
    "- Schwarz : 0\n",
    "- Dunkelgrau : 127\n",
    "- Hellgrau : 195\n",
    "- Weiß : 255\n",
    "\n",
    "Bei \"cv2.threshold(img, thresh, 255, cv2.THRESH_BINARY)\" ist der übergebene Schwellenwert der entscheidende Wert:   \n",
    "- Pixel über dem Schwellenwert werden weiß  \n",
    "- Pixel unter dem Schwellenwert werden schwarz\n",
    "> Beispiel : Wenn der Schieberegler 194 anzeigt, werden alle Pixel mit einem Wert von 195 oder höher (also hellgrau) dann weiß\n",
    "\n",
    "#### Otsu Algorithm\n",
    "- Es kann mühsam sein, den richtigen Schwellenwert manuell über einen Schieberegler zu finden.\n",
    "-> Der Otsu-Algorithmus findet den optimalen Schwellenwert automatisch"
   ]
  },
  {
   "cell_type": "markdown",
   "id": "5474a61c",
   "metadata": {},
   "source": [
    "#### Konturenfindungsmodi\n",
    "1. cv2.RETR_EXTERNAL : Findet nur die äußersten Konturen\n",
    "1. cv2.RETR_LIST : Findet alle Konturen ohne Hierarchieinformationen\n",
    "    - Keine Hierarchieinformationen : Gibt nur die Namen der Konturen zurück, ohne deren Beziehungen\n",
    "1. cv2.RETR_TREE : Findet alle Konturen mit Hierarchieinformationen in Baumstruktur\n",
    "    - Mit Hierarchieinformationen : Gibt die Beziehungen zwischen den Konturen zurück wie ein Stammbaum"
   ]
  },
  {
   "cell_type": "markdown",
   "id": "73e3afc9",
   "metadata": {},
   "source": [
    "#### Approximationsmethoden für Konturenfindung\n",
    "1. cv2.CHAIN_APPROX_NONE : Gibt alle Koordinaten der Kontur zurück\n",
    "1. cv2.CHAIN_APPROX_SIMPLE : Gibt nur die Koordinaten der Eckpunkte der Kontur zurück ohne Redundanz\n",
    "\n",
    "Rechtecke :\n",
    "- Bei Verwendung von NONE für Rechtecke werden alle Koordinaten der Kontur zurückgegeben\n",
    "- Bei perfekten Rechtecken, die aus geraden Linien bestehen, reichen die vier Eckpunkte aus, um das Rechteck zu beschreiben. Daher wird in diesem Fall SIMPLE verwendet, um Speicherplatz zu sparen"
   ]
  },
  {
   "cell_type": "markdown",
   "id": "26afaaa6",
   "metadata": {},
   "source": [
    "#### Begrenzungsrechteck\n",
    "Das Begrenzungsrechteck umschließt die Kontur\n",
    "> boundingRect() : Gibt die Informationen des Rechtecks, das die Kontur umschließt, zurück (x, y, width, height : (x, y) sind die Koordinaten der oberen linken Ecke des Rechtecks)"
   ]
  },
  {
   "cell_type": "markdown",
   "id": "2415e065",
   "metadata": {},
   "source": [
    "#### Fläche\n",
    "> contourArea() : Wenn man nur Konturen mit einer bestimmten Mindestgröße in einem Bild finden möchte"
   ]
  },
  {
   "cell_type": "code",
   "execution_count": 3,
   "id": "e533c71e",
   "metadata": {},
   "outputs": [],
   "source": [
    "import cv2\n",
    "\n",
    "img = cv2.imread('card.png')\n",
    "target_img = img.copy() # kopiertes Bild\n",
    "\n",
    "gray = cv2.cvtColor(img, cv2.COLOR_BGR2GRAY)\n",
    "\n",
    "ret, otsu = cv2.threshold(gray, -1, 255, cv2.THRESH_BINARY | cv2.THRESH_OTSU)\n",
    "\n",
    "# Konturenerkennung : Die Funktion \"findContours()\" gibt Informationen über die Konturen (\"contours\") und deren hierarhische Struktur (\"hierarchy\") zurück\n",
    "contours, hierarchy = cv2.findContours(otsu, cv2.RETR_LIST, cv2.CHAIN_APPROX_NONE)\n",
    "\n",
    "# Konturen zeichnen\n",
    "COLOR = (0, 200, 0)\n",
    "\n",
    "idx = 1\n",
    "# Flächen finden\n",
    "for contour in contours:\n",
    "    if cv2.contourArea(contour) > 25000: # Kartengröße : width 130 x height 205 = 26650\n",
    "            x, y, width, height = cv2.boundingRect(contour)\n",
    "            cv2.rectangle(target_img, (x, y), (x + width, y + height), COLOR, 2) # Rechteck zeichnen\n",
    "            \n",
    "            # Bildausschnitt ausschneiden\n",
    "            crop = img[y : y + height, x : x + width]\n",
    "            # height und width des Bildausschnitts (\"img\") defnieren\n",
    "            cv2.imshow(f'card_cropped_{idx}', crop)\n",
    "            # Datei speichern\n",
    "            cv2.imwrite(f'card_cropped_{idx}.png', crop)\n",
    "            idx += 1\n",
    "\n",
    "cv2.imshow('original card', img)\n",
    "cv2.imshow('contoured card', target_img)\n",
    "\n",
    "cv2.waitKey(0)\n",
    "cv2.destroyAllWindows()"
   ]
  }
 ],
 "metadata": {
  "kernelspec": {
   "display_name": "Python 3 (ipykernel)",
   "language": "python",
   "name": "python3"
  },
  "language_info": {
   "codemirror_mode": {
    "name": "ipython",
    "version": 3
   },
   "file_extension": ".py",
   "mimetype": "text/x-python",
   "name": "python",
   "nbconvert_exporter": "python",
   "pygments_lexer": "ipython3",
   "version": "3.11.8"
  }
 },
 "nbformat": 4,
 "nbformat_minor": 5
}
