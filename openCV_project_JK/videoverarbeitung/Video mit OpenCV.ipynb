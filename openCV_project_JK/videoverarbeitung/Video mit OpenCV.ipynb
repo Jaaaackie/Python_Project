{
 "cells": [
  {
   "cell_type": "markdown",
   "id": "97143f77",
   "metadata": {},
   "source": [
    "## OpenCV-Programm zum Rotieren eines horizontal aufgenommenen Videos um 90 Grad im Gegenuhrzeigersinn"
   ]
  },
  {
   "cell_type": "markdown",
   "id": "7b11c006",
   "metadata": {},
   "source": [
    "### Bedingungen\n",
    "1. Rotation : 90 Grad gegen den Uhrzeigersinn\n",
    "1. Wiedergabegeschwindigkeit (FPS) : 4-fach der Originalgeschwindigkeit\n",
    "1. Ausgabedateiname : city_output.avi (Codec : DIVX)\n",
    "- Originaldateiname : city.mp4"
   ]
  },
  {
   "cell_type": "markdown",
   "id": "f7bfa81e",
   "metadata": {},
   "source": [
    "### Aussgabe der Videodatei"
   ]
  },
  {
   "cell_type": "code",
   "execution_count": 1,
   "id": "d334f549",
   "metadata": {},
   "outputs": [],
   "source": [
    "import cv2\n",
    "\n",
    "cap = cv2.VideoCapture('city.mp4')\n",
    "\n",
    "while cap.isOpened():\n",
    "    ret, frame = cap.read()\n",
    "    \n",
    "    if not ret:\n",
    "        break\n",
    "    \n",
    "    cv2.imshow('city', frame)\n",
    "    \n",
    "    if cv2.waitKey(1) == ord('q'):\n",
    "        break\n",
    "        \n",
    "cap.release()\n",
    "cv2.destroyAllWindows()"
   ]
  },
  {
   "cell_type": "markdown",
   "id": "c12867cf",
   "metadata": {},
   "source": [
    "### Anpassung nach Bedinungen"
   ]
  },
  {
   "cell_type": "code",
   "execution_count": 3,
   "id": "44d5b9c6",
   "metadata": {},
   "outputs": [],
   "source": [
    "import cv2\n",
    "\n",
    "cap = cv2.VideoCapture('city.mp4')\n",
    "\n",
    "fourcc = cv2.VideoWriter_fourcc(*'DIVX')\n",
    "width = round(cap.get(cv2.CAP_PROP_FRAME_WIDTH))\n",
    "height = round(cap.get(cv2.CAP_PROP_FRAME_HEIGHT)) \n",
    "fps = cap.get(cv2.CAP_PROP_FPS)\n",
    "\n",
    "output = cv2.VideoWriter('city_output.avi', fourcc, fps * 4, (height, width))\n",
    "\n",
    "while cap.isOpened():\n",
    "    ret, frame = cap.read()\n",
    "    \n",
    "    if not ret:\n",
    "        break\n",
    "    \n",
    "    rotate_frame = cv2.rotate(frame, cv2.ROTATE_90_COUNTERCLOCKWISE)\n",
    "    output.write(rotate_frame)\n",
    "    cv2.imshow('city_edited', frame)\n",
    "    \n",
    "    if cv2.waitKey(1) == ord('q'):\n",
    "        break\n",
    "\n",
    "output.release()\n",
    "cap.release()\n",
    "cv2.destroyAllWindows()"
   ]
  }
 ],
 "metadata": {
  "kernelspec": {
   "display_name": "Python 3 (ipykernel)",
   "language": "python",
   "name": "python3"
  },
  "language_info": {
   "codemirror_mode": {
    "name": "ipython",
    "version": 3
   },
   "file_extension": ".py",
   "mimetype": "text/x-python",
   "name": "python",
   "nbconvert_exporter": "python",
   "pygments_lexer": "ipython3",
   "version": "3.11.8"
  }
 },
 "nbformat": 4,
 "nbformat_minor": 5
}
